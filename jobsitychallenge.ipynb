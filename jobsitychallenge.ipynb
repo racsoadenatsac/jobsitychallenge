from pyspark.sql import SparkSession
from pyspark.sql.functions import udf, col, to_timestamp, weekofyear
from pyspark.sql.types import FloatType
import re

# Initialize Spark session
spark = SparkSession.builder.appName("TripAnalysis").config("spark.sql.warehouse.dir", "/tmp").enableHiveSupport().getOrCreate()

# Sample data
data = [
    ("Prague", "POINT (14.4973794438195 50.00136875782316)", "POINT (14.43109483523328 50.04052930943246)", "2018-05-28 9:03:40", "funny_car"),
    # Add the rest of your data here...
]

# Define schema
from pyspark.sql.types import StructType, StructField, StringType, TimestampType

schema = StructType([
    StructField("region", StringType(), True),
    StructField("origin_coord", StringType(), True),
    StructField("destination_coord", StringType(), True),
    StructField("datetime", StringType(), True),
    StructField("datasource", StringType(), True),
])

# Create DataFrame
df = spark.createDataFrame(data, schema=schema)

# Preprocessing function to extract coordinates
def extract_lat_long(point):
    match = re.match(r'POINT \((.+)\s(.+)\)', point)
    if match:
        return float(match.group(1)), float(match.group(2))
    return None, None

extract_lat_long_udf = udf(extract_lat_long, returnType=StructType([StructField("lat", FloatType(), True), StructField("long", FloatType(), True)]))

# Preprocess data
df = df.withColumn("datetime", to_timestamp("datetime")) \
       .withColumn("origin", extract_lat_long_udf(col("origin_coord"))) \
       .withColumn("destination", extract_lat_long_udf(col("destination_coord"))) \
       .drop("origin_coord", "destination_coord")

df.show()

# Store data in SparkSQL (temporary view for demonstration)
df.createOrReplaceTempView("trips")

# Example query: Count trips by region
spark.sql("SELECT region, count(*) as trip_count FROM trips GROUP BY region").show()

# Example query: Calculate weekly average trips for a specific region
spark.sql("""
SELECT region, weekofyear(datetime) as week, count(*) / count(distinct weekofyear(datetime)) as weekly_avg
FROM trips
WHERE region = 'Prague'
GROUP BY region, week
""").show()
